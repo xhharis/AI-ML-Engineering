{
 "cells": [
  {
   "cell_type": "code",
   "execution_count": 3,
   "id": "cfc94861-a5c8-4919-bb52-c81babfb3c3d",
   "metadata": {},
   "outputs": [
    {
     "name": "stdout",
     "output_type": "stream",
     "text": [
      "10 3.14 CosmiCode\n",
      "[1, 2, 3]\n",
      "{'key': 'value'}\n",
      "i = 0\n",
      "i = 1\n",
      "i = 2\n",
      "Odd\n",
      "Hello, Abdullah\n",
      "sample.csv\n"
     ]
    }
   ],
   "source": [
    "# Data Types\n",
    "x = 10\n",
    "y = 3.14\n",
    "name = \"CosmiCode\"\n",
    "my_list = [1, 2, 3]\n",
    "my_dict = {\"key\": \"value\"}\n",
    "\n",
    "print(x, y, name)\n",
    "print(my_list)\n",
    "print(my_dict)\n",
    "\n",
    "# Loops\n",
    "for i in range(3):\n",
    "    print(\"i =\", i)\n",
    "\n",
    "# Conditional\n",
    "num = 7\n",
    "if num % 2 == 0:\n",
    "    print(\"Even\")\n",
    "else:\n",
    "    print(\"Odd\")\n",
    "\n",
    "# Function\n",
    "def greet(name):\n",
    "    return \"Hello, \" + name\n",
    "\n",
    "print(greet(\"Abdullah\"))\n"
   ]
  },
  {
   "cell_type": "code",
   "execution_count": 5,
   "id": "321f0ace-f745-4d28-91a1-9e87e970ebea",
   "metadata": {},
   "outputs": [
    {
     "name": "stdout",
     "output_type": "stream",
     "text": [
      "✅ sample.csv created\n"
     ]
    }
   ],
   "source": [
    "import pandas as pd\n",
    "\n",
    "data = {\n",
    "    \"Name\": [\"Ali\", \"Sara\", \"Usman\", \"Zara\", \"Hamza\"],\n",
    "    \"Age\": [20, None, 22, 19, 21],\n",
    "    \"City\": [\"Lahore\", \"Karachi\", \"Islamabad\", \"Lahore\", \"Multan\"],\n",
    "    \"Math\": [85, 78, 92, None, 75],\n",
    "    \"Science\": [90, 88, 95, 91, None]\n",
    "}\n",
    "\n",
    "df = pd.DataFrame(data)\n",
    "df.to_csv(\"sample.csv\", index=False)\n",
    "print(\"✅ sample.csv created\")\n"
   ]
  },
  {
   "cell_type": "code",
   "execution_count": 6,
   "id": "cb49471d-8786-47dc-b68d-ab33f531c00a",
   "metadata": {},
   "outputs": [
    {
     "name": "stdout",
     "output_type": "stream",
     "text": [
      "    Name   Age       City  Math  Science\n",
      "0    Ali  20.0     Lahore  85.0     90.0\n",
      "1   Sara   NaN    Karachi  78.0     88.0\n",
      "2  Usman  22.0  Islamabad  92.0     95.0\n",
      "3   Zara  19.0     Lahore   NaN     91.0\n",
      "4  Hamza  21.0     Multan  75.0      NaN\n"
     ]
    }
   ],
   "source": [
    "df = pd.read_csv(\"sample.csv\")\n",
    "print(df.head())\n"
   ]
  },
  {
   "cell_type": "code",
   "execution_count": 8,
   "id": "29538d0e-5908-4c24-853b-d1a35e52a860",
   "metadata": {},
   "outputs": [
    {
     "name": "stdout",
     "output_type": "stream",
     "text": [
      "Name       0\n",
      "Age        1\n",
      "City       0\n",
      "Math       1\n",
      "Science    1\n",
      "dtype: int64\n"
     ]
    }
   ],
   "source": [
    "print(df.isnull().sum())"
   ]
  },
  {
   "cell_type": "code",
   "execution_count": 9,
   "id": "830fb093-1a78-4ab7-a7bc-9532e8a1c1c6",
   "metadata": {},
   "outputs": [
    {
     "name": "stdout",
     "output_type": "stream",
     "text": [
      "    Name   Age       City  Math  Science\n",
      "0    Ali  20.0     Lahore  85.0     90.0\n",
      "1   Sara   0.0    Karachi  78.0     88.0\n",
      "2  Usman  22.0  Islamabad  92.0     95.0\n",
      "3   Zara  19.0     Lahore   0.0     91.0\n",
      "4  Hamza  21.0     Multan  75.0      0.0\n"
     ]
    }
   ],
   "source": [
    "\n",
    "df.fillna(0, inplace=True)\n",
    "\n",
    "print(df)\n"
   ]
  },
  {
   "cell_type": "code",
   "execution_count": 14,
   "id": "26d88004-24b9-480d-ba0a-8338d5753633",
   "metadata": {},
   "outputs": [
    {
     "name": "stdout",
     "output_type": "stream",
     "text": [
      "Cleaned file saved as 'cleaned_sample.csv'\n"
     ]
    }
   ],
   "source": [
    "df.to_csv(\"cleaned_sample.csv\", index=False)\n",
    "print(\"Cleaned file saved as 'cleaned_sample.csv'\")\n"
   ]
  },
  {
   "cell_type": "code",
   "execution_count": 1,
   "id": "2ca644f9-55ba-4d8a-8a23-5e5e3179e7a1",
   "metadata": {},
   "outputs": [
    {
     "data": {
      "text/html": [
       "<div>\n",
       "<style scoped>\n",
       "    .dataframe tbody tr th:only-of-type {\n",
       "        vertical-align: middle;\n",
       "    }\n",
       "\n",
       "    .dataframe tbody tr th {\n",
       "        vertical-align: top;\n",
       "    }\n",
       "\n",
       "    .dataframe thead th {\n",
       "        text-align: right;\n",
       "    }\n",
       "</style>\n",
       "<table border=\"1\" class=\"dataframe\">\n",
       "  <thead>\n",
       "    <tr style=\"text-align: right;\">\n",
       "      <th></th>\n",
       "      <th>Name</th>\n",
       "      <th>Age</th>\n",
       "      <th>City</th>\n",
       "      <th>Math</th>\n",
       "      <th>Science</th>\n",
       "    </tr>\n",
       "  </thead>\n",
       "  <tbody>\n",
       "    <tr>\n",
       "      <th>0</th>\n",
       "      <td>Ali</td>\n",
       "      <td>20.0</td>\n",
       "      <td>Lahore</td>\n",
       "      <td>85.0</td>\n",
       "      <td>90.0</td>\n",
       "    </tr>\n",
       "    <tr>\n",
       "      <th>1</th>\n",
       "      <td>Sara</td>\n",
       "      <td>NaN</td>\n",
       "      <td>Karachi</td>\n",
       "      <td>78.0</td>\n",
       "      <td>88.0</td>\n",
       "    </tr>\n",
       "    <tr>\n",
       "      <th>2</th>\n",
       "      <td>Usman</td>\n",
       "      <td>22.0</td>\n",
       "      <td>Islamabad</td>\n",
       "      <td>92.0</td>\n",
       "      <td>95.0</td>\n",
       "    </tr>\n",
       "    <tr>\n",
       "      <th>3</th>\n",
       "      <td>Zara</td>\n",
       "      <td>19.0</td>\n",
       "      <td>Lahore</td>\n",
       "      <td>NaN</td>\n",
       "      <td>91.0</td>\n",
       "    </tr>\n",
       "    <tr>\n",
       "      <th>4</th>\n",
       "      <td>Hamza</td>\n",
       "      <td>21.0</td>\n",
       "      <td>Multan</td>\n",
       "      <td>75.0</td>\n",
       "      <td>NaN</td>\n",
       "    </tr>\n",
       "  </tbody>\n",
       "</table>\n",
       "</div>"
      ],
      "text/plain": [
       "    Name   Age       City  Math  Science\n",
       "0    Ali  20.0     Lahore  85.0     90.0\n",
       "1   Sara   NaN    Karachi  78.0     88.0\n",
       "2  Usman  22.0  Islamabad  92.0     95.0\n",
       "3   Zara  19.0     Lahore   NaN     91.0\n",
       "4  Hamza  21.0     Multan  75.0      NaN"
      ]
     },
     "execution_count": 1,
     "metadata": {},
     "output_type": "execute_result"
    }
   ],
   "source": [
    "import pandas as pd\n",
    "import matplotlib.pyplot as plt\n",
    "import seaborn as sns\n",
    "\n",
    "# CSV file load karna\n",
    "df = pd.read_csv(\"sample.csv\")\n",
    "df.head()\n"
   ]
  },
  {
   "cell_type": "code",
   "execution_count": 2,
   "id": "13b639c5-dbb6-46d3-87e3-617c5138107b",
   "metadata": {},
   "outputs": [
    {
     "data": {
      "image/png": "[encoded data removed]",
      "text/plain": [
       "<Figure size 800x400 with 1 Axes>"
      ]
     },
     "metadata": {},
     "output_type": "display_data"
    }
   ],
   "source": [
    "plt.figure(figsize=(8, 4))\n",
    "df['Age'].value_counts().sort_index().plot(kind='bar', color='skyblue')\n",
    "plt.title(\"Age Distribution\")\n",
    "plt.xlabel(\"Age\")\n",
    "plt.ylabel(\"Count\")\n",
    "plt.tight_layout()\n",
    "plt.show()\n"
   ]
  },
  {
   "cell_type": "code",
   "execution_count": 5,
   "id": "dff877e7-1d40-465c-bfc8-d40961863b13",
   "metadata": {},
   "outputs": [
    {
     "data": {
      "image/png": "[encoded data removed]",
      "text/plain": [
       "<Figure size 800x400 with 1 Axes>"
      ]
     },
     "metadata": {},
     "output_type": "display_data"
    }
   ],
   "source": [
    "plt.figure(figsize=(8, 4))\n",
    "sns.histplot(df['Math'], kde=True, color='green')\n",
    "plt.title(\"Math Score Distribution with KDE\")\n",
    "plt.xlabel(\"Math Score\")\n",
    "plt.tight_layout()\n",
    "plt.show()\n"
   ]
  },
  {
   "cell_type": "code",
   "execution_count": 6,
   "id": "abab2f23-eaa8-4d79-9b65-06a7061ee243",
   "metadata": {},
   "outputs": [
    {
     "data": {
      "image/png": "[encoded data removed]",
      "text/plain": [
       "<Figure size 800x400 with 1 Axes>"
      ]
     },
     "metadata": {},
     "output_type": "display_data"
    }
   ],
   "source": [
    "plt.figure(figsize=(8, 4))\n",
    "sns.scatterplot(x='Math', y='Science', data=df)\n",
    "plt.title(\"Math vs Science Scores\")\n",
    "plt.xlabel(\"Math\")\n",
    "plt.ylabel(\"Science\")\n",
    "plt.tight_layout()\n",
    "plt.show()"
   ]
  },
  {
   "cell_type": "code",
   "execution_count": null,
   "id": "f97c039c-8ac6-45eb-a5bd-af889c592a19",
   "metadata": {},
   "outputs": [],
   "source": []
  }
 ],
 "metadata": {
  "kernelspec": {
   "display_name": "Python 3 (ipykernel)",
   "language": "python",
   "name": "python3"
  },
  "language_info": {
   "codemirror_mode": {
    "name": "ipython",
    "version": 3
   },
   "file_extension": ".py",
   "mimetype": "text/x-python",
   "name": "python",
   "nbconvert_exporter": "python",
   "pygments_lexer": "ipython3",
   "version": "3.13.5"
  }
 },
 "nbformat": 4,
 "nbformat_minor": 5
}
